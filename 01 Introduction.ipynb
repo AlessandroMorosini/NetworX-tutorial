{
 "cells": [
  {
   "cell_type": "markdown",
   "metadata": {},
   "source": [
    "# Introduction"
   ]
  },
  {
   "cell_type": "markdown",
   "metadata": {},
   "source": [
    "### Graph definition\n",
    "A graph G is a set of vertexes, called nodes 'v', which are connected by edges, called links ‘e'.\n",
    "A node v is an intersection point of a graph, and it denotes a location such as a city (or a firm), while the edge e represents a link between two  connected nodes nodes, say the street (or the relationship between the two firms). \n",
    "In NetworkX, nodes can be associated to any hasbale object and edges can be associated to arbitrary data (like weight)."
   ]
  },
  {
   "cell_type": "markdown",
   "metadata": {},
   "source": [
    "### Graph choice\n",
    "- does the orientation of edges matter ? no -> un-directed graph,  yes no -> directed graph\n",
    "- can we have more than one link between two nodes ? no -> nomal graph,  yes -> multi graph"
   ]
  },
  {
   "cell_type": "code",
   "execution_count": 16,
   "metadata": {},
   "outputs": [],
   "source": [
    "import networkx as nx"
   ]
  },
  {
   "cell_type": "code",
   "execution_count": 17,
   "metadata": {},
   "outputs": [],
   "source": [
    "# the four different types of graphs are instanciated as follows\n",
    "G = nx.Graph()  \n",
    "G = nx.DiGraph()\n",
    "G = nx.MultiGraph() \n",
    "G = nx.MultiDiGraph()\n",
    "# note: all of this graphs are empty for now"
   ]
  },
  {
   "cell_type": "markdown",
   "metadata": {},
   "source": [
    "### Graph creation\n",
    "We can create a graph in three different ways:\n",
    "- create empty graph and then add edges and nodes manually\n",
    "- import data from existing file (like a json)\n",
    "- use a graph generator: algorithm creating network\n",
    "\n"
   ]
  },
  {
   "cell_type": "markdown",
   "metadata": {},
   "source": [
    "# Graph Types\n",
    "note: in addition to the previously mentioned 4 types of graphs, we have other 4 types that can be obtained by prefixing 'Ordered'. This can turn useful because it forces a consistent way of representing nodes and edges in order.\n",
    "\n",
    "Below are the methods used to **add and remove nodes and edges** (together with their attributes). This methods are the same for directed and undirected singular graphs"
   ]
  },
  {
   "cell_type": "code",
   "execution_count": 18,
   "metadata": {},
   "outputs": [
    {
     "data": {
      "text/plain": [
       "{'attr1': 'Graph attribute 1', 'attr2': 'Graph attribute 2'}"
      ]
     },
     "execution_count": 18,
     "metadata": {},
     "output_type": "execute_result"
    }
   ],
   "source": [
    "# create the Graph\n",
    "G = nx.Graph()  \n",
    "G = nx.Graph(attr1='Graph attribute 1', attr2='Graph attribute 2')\n",
    "G.graph"
   ]
  },
  {
   "cell_type": "markdown",
   "metadata": {},
   "source": [
    "### Adding and Removing nodes"
   ]
  },
  {
   "cell_type": "code",
   "execution_count": 19,
   "metadata": {},
   "outputs": [
    {
     "name": "stdout",
     "output_type": "stream",
     "text": [
      "[1, 2, 3, 4, 5, 6, 7, 8, 9, <networkx.classes.graph.Graph object at 0x106c55420>]\n",
      "[(1, {}), (2, {}), (3, {}), (4, {}), (5, {}), (6, {}), (7, {}), (8, {}), (9, {}), (<networkx.classes.graph.Graph object at 0x106c55420>, {})]\n",
      "{}\n"
     ]
    }
   ],
   "source": [
    "# adding nodes\n",
    "\n",
    "G.add_node(1)\n",
    "G.add_nodes_from([2, 3, 4])\n",
    "\n",
    "H = nx.Graph()\n",
    "H.add_nodes_from(range(5, 10))\n",
    "\n",
    "G.add_nodes_from(H.nodes)  # can add nodes from another graph\n",
    "G.add_node(H)  # or add another graph as a node\n",
    "\n",
    "print(G.nodes)\n",
    "print(G.nodes(data=True))\n",
    "print(G.nodes[1])\n"
   ]
  },
  {
   "cell_type": "code",
   "execution_count": 20,
   "metadata": {},
   "outputs": [
    {
     "name": "stdout",
     "output_type": "stream",
     "text": [
      "[1, 2, 3, 4, 5, 6, 7, 8, 9, <networkx.classes.graph.Graph object at 0x106c55420>, 10]\n",
      "[(1, {'attr1': 'node1 attribute'}), (2, {'attr': 'common attribute'}), (3, {'attr': 'common attribute'}), (4, {'attr': 'common attribute'}), (5, {'attr': 'common attribute'}), (6, {'attr6': 'node6 attribute'}), (7, {}), (8, {}), (9, {}), (<networkx.classes.graph.Graph object at 0x106c55420>, {}), (10, {'attr1': 'node10 attribute'})]\n",
      "{'attr1': 'node1 attribute'}\n"
     ]
    }
   ],
   "source": [
    "# setting node attributes \n",
    "\n",
    "G.add_node(10, attr1='node10 attribute')  # set an attribute to a node\n",
    "G.add_node(1, attr1='node1 attribute')  # this will over-write node 1\n",
    "G.add_nodes_from([2,3,4,5], attr='common attribute')\n",
    "G.nodes[6]['attr6'] = 'node6 attribute'  # to do this node 6 must already exist\n",
    "\n",
    "print(G.nodes)\n",
    "print(G.nodes(data=True))  # note: can also use data='attr1' to get only nodes with a specific attribute\n",
    "\n",
    "# print(G.nodes(data='attr6'))\n",
    "print(G.nodes[1])"
   ]
  },
  {
   "cell_type": "code",
   "execution_count": 21,
   "metadata": {},
   "outputs": [
    {
     "name": "stdout",
     "output_type": "stream",
     "text": [
      "[1, 2, 5, 6, 7, 8, 9, 10]\n",
      "[(1, {'attr1': 'node1 attribute'}), (2, {'attr': 'common attribute'}), (5, {'attr': 'common attribute'}), (6, {'attr6': 'node6 attribute'}), (7, {}), (8, {}), (9, {}), (10, {})]\n"
     ]
    }
   ],
   "source": [
    "# removing nodes and node attributes\n",
    "\n",
    "G.remove_node(H)\n",
    "G.remove_nodes_from([3,4])\n",
    "\n",
    "del G.nodes[10]['attr1']  # to remove attribute\n",
    "\n",
    "print(G.nodes)\n",
    "print(G.nodes(data=True))"
   ]
  },
  {
   "cell_type": "markdown",
   "metadata": {},
   "source": [
    "### Adding and Removing edges"
   ]
  },
  {
   "cell_type": "code",
   "execution_count": 22,
   "metadata": {},
   "outputs": [
    {
     "name": "stdout",
     "output_type": "stream",
     "text": [
      "[(1, 2), (1, 4), (1, 3), (5, 6), (7, 8)]\n",
      "[(1, 2, {}), (1, 4, {}), (1, 3, {}), (5, 6, {}), (7, 8, {})]\n"
     ]
    }
   ],
   "source": [
    "# adding edges\n",
    "\n",
    "G.add_edge(1, 2)\n",
    "G.add_edges_from([(1, 4), (1, 3)])\n",
    "\n",
    "H.add_edges_from([(5,6), (7,8)])\n",
    "G.add_edges_from(H.edges)\n",
    "\n",
    "print(G.edges)\n",
    "print(G.edges(data=True))\n",
    "\n"
   ]
  },
  {
   "cell_type": "code",
   "execution_count": 23,
   "metadata": {},
   "outputs": [
    {
     "name": "stdout",
     "output_type": "stream",
     "text": [
      "[(1, 2), (1, 4), (1, 3), (2, 4), (2, 5), (5, 6), (5, 3), (7, 8), (4, 3)]\n",
      "[(1, 2, {'weight': 26}), (1, 4, {'weight': 100}), (1, 3, {}), (2, 4, {'color': 'red'}), (2, 5, {'color': 'red'}), (5, 6, {}), (5, 3, {'color': 'blu'}), (7, 8, {'weight': 0.1}), (4, 3, {'color': 'red'})]\n"
     ]
    }
   ],
   "source": [
    "# adding edge attributes\n",
    "\n",
    "G.add_edge(1, 2, weight=26.3)\n",
    "G[1][2]['weight'] = 25\n",
    "G.edges[1, 2]['weight'] = 26\n",
    "\n",
    "G.add_edges_from(  # can either supply list of edges (tuples) with common attribute\n",
    "    [(2, 4), (2, 5)],\n",
    "    color='red'\n",
    ")\n",
    "G.add_edges_from(  # or supply list of tuple with node1 node2 and specific edge attribute dictionary\n",
    "    [\n",
    "        (3, 4, {'color':'red'}),\n",
    "        (3, 5, {'color':'blu'})\n",
    "    ]\n",
    ")\n",
    "\n",
    "G.add_weighted_edges_from([(7,8, 0.1),(1,4,100)])  # provide tuples containing node1 node2 and weight\n",
    "\n",
    "print(G.edges)\n",
    "print(G.edges(data=True))"
   ]
  },
  {
   "cell_type": "code",
   "execution_count": 24,
   "metadata": {},
   "outputs": [
    {
     "name": "stdout",
     "output_type": "stream",
     "text": [
      "[(1, 4), (2, 5), (5, 6), (5, 3), (7, 8), (4, 3)]\n",
      "[(1, 4, {'weight': 100}), (2, 5, {'color': 'red'}), (5, 6, {}), (5, 3, {'color': 'blu'}), (7, 8, {}), (4, 3, {'color': 'red'})]\n"
     ]
    }
   ],
   "source": [
    "# removing edges\n",
    "\n",
    "G.remove_edge(1,2)\n",
    "G.remove_edges_from([(2,4),(1,3)])\n",
    "\n",
    "del G.edges[7, 8]['weight']\n",
    "\n",
    "print(G.edges)\n",
    "print(G.edges(data=True))"
   ]
  },
  {
   "cell_type": "markdown",
   "metadata": {},
   "source": [
    "### Copies and Subgraphs"
   ]
  },
  {
   "cell_type": "code",
   "execution_count": 25,
   "metadata": {},
   "outputs": [
    {
     "data": {
      "text/plain": [
       "<networkx.classes.graph.Graph at 0x106c559c0>"
      ]
     },
     "execution_count": 25,
     "metadata": {},
     "output_type": "execute_result"
    }
   ],
   "source": [
    "G_copy = G.copy()\n",
    "G.to_undirected()  # returns undirected version of a graph\n",
    "G.to_directed()  # returns directed version of a graph\n",
    "\n",
    "G.subgraph([1,2,5])  # returns subgraph containing passed nodes and existing edges between these\n",
    "G.edge_subgraph([(7,8),(1,4)])  # returns subgraph induced by passed edges"
   ]
  },
  {
   "cell_type": "markdown",
   "metadata": {},
   "source": [
    "## Undirected Graphs\n",
    "Note: most of methods used for undirected graphs also work for directed graphs. Directed graphs, instead, have some spefic methods (as we shall see later)"
   ]
  },
  {
   "cell_type": "markdown",
   "metadata": {},
   "source": [
    "### Reporting nodes, edges and neighbors"
   ]
  },
  {
   "cell_type": "code",
   "execution_count": 26,
   "metadata": {},
   "outputs": [
    {
     "name": "stdout",
     "output_type": "stream",
     "text": [
      "nodes: [1, 2, 5, 6, 7, 8, 9, 10, 4, 3]\n",
      "edges: [(1, 4), (2, 5), (5, 6), (5, 3), (7, 8), (4, 3)]\n",
      "G has node 1: True\n",
      "G has edge (1,2): False\n",
      "G edge (2,4) attributes: None \n",
      "\n",
      "node 2 has neighbors [5]\n",
      "node 2 has neighbors {5: {'color': 'red'}} \n",
      "\n",
      "unpacked adj\n",
      "node:1, neighbors:{4: {'weight': 100}}\n",
      "node:2, neighbors:{5: {'color': 'red'}}\n",
      "node:5, neighbors:{6: {}, 2: {'color': 'red'}, 3: {'color': 'blu'}}\n",
      "node:6, neighbors:{5: {}}\n",
      "node:7, neighbors:{8: {}}\n",
      "node:8, neighbors:{7: {}}\n",
      "node:9, neighbors:{}\n",
      "node:10, neighbors:{}\n",
      "node:4, neighbors:{1: {'weight': 100}, 3: {'color': 'red'}}\n",
      "node:3, neighbors:{4: {'color': 'red'}, 5: {'color': 'blu'}}\n",
      "\n",
      "list comprehension of adjacency\n",
      "[(1, {4: {'weight': 100}}), (2, {5: {'color': 'red'}}), (5, {6: {}, 2: {'color': 'red'}, 3: {'color': 'blu'}}), (6, {5: {}}), (7, {8: {}}), (8, {7: {}}), (9, {}), (10, {}), (4, {1: {'weight': 100}, 3: {'color': 'red'}}), (3, {4: {'color': 'red'}, 5: {'color': 'blu'}})]\n"
     ]
    }
   ],
   "source": [
    "print(f'nodes: {G.nodes}')\n",
    "print(f'edges: {G.edges}')  \n",
    "print(f'G has node 1: {G.has_node(1)}')  # or 1 in G\n",
    "print(f'G has edge (1,2): {G.has_edge(1,2)}')\n",
    "print(f'G edge (2,4) attributes: {G.get_edge_data(2,4)} \\n')\n",
    "\n",
    "print(f'node 2 has neighbors {[neigh for neigh in G.neighbors(2)]}')  # G.neighbors returns an iterator \n",
    "print(f'node 2 has neighbors {G[2]} \\n')  # returns neighbors of 2 and also their attributes\n",
    "\n",
    "print('unpacked adj')\n",
    "for node, neighbors in G.adj.items():   # dictionary mapping node to neighbors (and attributes)\n",
    "    print(f'node:{node}, neighbors:{neighbors}')\n",
    "\n",
    "print('\\nlist comprehension of adjacency')\n",
    "print([el for el in G.adjacency()])  # iterator containing tuples where tuple[0] is node and tuple[1] is adjacency"
   ]
  },
  {
   "cell_type": "markdown",
   "metadata": {},
   "source": [
    "### Counting Nodes and Neighbors "
   ]
  },
  {
   "cell_type": "code",
   "execution_count": 27,
   "metadata": {},
   "outputs": [
    {
     "name": "stdout",
     "output_type": "stream",
     "text": [
      "10\n",
      "10\n",
      "6\n",
      "6\n",
      "105.0\n"
     ]
    },
    {
     "data": {
      "text/plain": [
       "DegreeView({1: 1, 2: 1, 5: 3, 6: 1, 7: 1, 8: 1, 9: 0, 10: 0, 4: 2, 3: 2})"
      ]
     },
     "execution_count": 27,
     "metadata": {},
     "output_type": "execute_result"
    }
   ],
   "source": [
    "print(G.number_of_nodes())\n",
    "print(G.order())  # returns number of nodes in the graph, as well as len(G)\n",
    "\n",
    "print(G.number_of_edges()) \n",
    "print(G.size())  # returns number of edges\n",
    "print(G.size('weight'))  # returns sum of the edges weights\n",
    "\n",
    "G.degree()  # returns dictionary mapping node to the number of its neighbors"
   ]
  },
  {
   "cell_type": "markdown",
   "metadata": {},
   "source": [
    "## Directed Graphs \n",
    "\n",
    "Below are some of the most common methods specific to the class of directed graphs"
   ]
  },
  {
   "cell_type": "code",
   "execution_count": 28,
   "metadata": {},
   "outputs": [],
   "source": [
    "# convert the previous graph by \n",
    "DG = G.to_directed()  # any previously present edge is now present in both orientations\n",
    "# or to create a directed graph:\n",
    "DG = nx.DiGraph()\n",
    "DG.add_weighted_edges_from([(1,2,0.1),(1,3,0.5),(2,4,0.3),(4,3,0.2), (5,1,1.2)])"
   ]
  },
  {
   "cell_type": "markdown",
   "metadata": {},
   "source": [
    "### Reporting nodes, edges and neighbors"
   ]
  },
  {
   "cell_type": "code",
   "execution_count": 29,
   "metadata": {},
   "outputs": [
    {
     "name": "stdout",
     "output_type": "stream",
     "text": [
      "True\n",
      "False\n",
      "{2: {'weight': 0.1}, 3: {'weight': 0.5}}\n",
      "{1: {2: {'weight': 0.1}, 3: {'weight': 0.5}}, 2: {4: {'weight': 0.3}}, 3: {}, 4: {3: {'weight': 0.2}}, 5: {1: {'weight': 1.2}}}\n"
     ]
    }
   ],
   "source": [
    "# charachteristic behaviours \n",
    "\n",
    "print(DG.has_edge(1,2))  # gives True\n",
    "print(DG.has_edge(2,1))  # gives False, as the order matters!\n",
    "\n",
    "print(DG[1])  # only returns neighbors of 1 in out direction\n",
    "print(DG.adj)  # equivalent reasoning for neighbors in adjacency"
   ]
  },
  {
   "cell_type": "code",
   "execution_count": 30,
   "metadata": {},
   "outputs": [
    {
     "name": "stdout",
     "output_type": "stream",
     "text": [
      "[(1, 2), (1, 3), (2, 4), (4, 3), (5, 1)]\n",
      "[(5, 1), (1, 2), (1, 3), (4, 3), (2, 4)]\n",
      "[2, 3]\n",
      "[5]\n",
      "\n",
      "\n",
      "node:1 successors:{2: {'weight': 0.1}, 3: {'weight': 0.5}}\n",
      "node:2 successors:{4: {'weight': 0.3}}\n",
      "node:3 successors:{}\n",
      "node:4 successors:{3: {'weight': 0.2}}\n",
      "node:5 successors:{1: {'weight': 1.2}}\n",
      "node:1 predecessors:{5: {'weight': 1.2}}\n",
      "node:2 predecessors:{1: {'weight': 0.1}}\n",
      "node:3 predecessors:{1: {'weight': 0.5}, 4: {'weight': 0.2}}\n",
      "node:4 predecessors:{2: {'weight': 0.3}}\n",
      "node:5 predecessors:{}\n"
     ]
    }
   ],
   "source": [
    "# characteristic methods \n",
    "\n",
    "print(DG.out_edges)  # sorted by the out edge\n",
    "print(DG.in_edges)  # sorted by the in edge\n",
    "\n",
    "print([el for el in DG.successors(1)])  # iterator containing successor nodes of 1  (nodes to which 1 is pointing)\n",
    "print([el for el in DG.predecessors(1)])  # iterator containing predecessors nodes of 1  (nodes by which 1 is pointed)\n",
    "print('\\n')\n",
    "\n",
    "for n, succs in DG.succ.items():\n",
    "    print(f'node:{n} successors:{succs}')\n",
    "\n",
    "for n, preds in DG.pred.items():\n",
    "    print(f'node:{n} predecessors:{preds}')\n",
    "\n",
    "# these are respectively two dictionaries mapping any node to its successors and to its predecessors (with attributes)\n",
    "# method that corresponds to adj for Un-Directed graphs\n",
    "\n",
    "# note: the method DG.adjacency works at the same way as for Undirected graph but only considers successors! \n"
   ]
  },
  {
   "cell_type": "code",
   "execution_count": 31,
   "metadata": {},
   "outputs": [
    {
     "name": "stdout",
     "output_type": "stream",
     "text": [
      "0\n",
      "2\n",
      "3\n",
      "7\n",
      "13\n",
      "17\n",
      "19\n",
      "21\n",
      "30\n"
     ]
    }
   ],
   "source": [
    "G = nx.karate_club_graph()\n",
    "for el in G.neighbors(1):\n",
    "    print(el)"
   ]
  },
  {
   "cell_type": "markdown",
   "metadata": {},
   "source": [
    "### Counting nodes and edges"
   ]
  },
  {
   "cell_type": "code",
   "execution_count": 32,
   "metadata": {},
   "outputs": [],
   "source": [
    "DG.out_degree  # dict mapping node to number of successors\n",
    "DG.in_degree  # dict mapping node to number of predecessors\n",
    "a = DG.degree  # considers both predecessors and successors\n",
    "# note: this methods are also callable so that you can directly get neighbors of one node (or access the dict afterwards)\n"
   ]
  }
 ],
 "metadata": {
  "interpreter": {
   "hash": "aee8b7b246df8f9039afb4144a1f6fd8d2ca17a180786b69acc140d282b71a49"
  },
  "kernelspec": {
   "display_name": "Python 3.10.4 64-bit",
   "language": "python",
   "name": "python3"
  },
  "language_info": {
   "codemirror_mode": {
    "name": "ipython",
    "version": 3
   },
   "file_extension": ".py",
   "mimetype": "text/x-python",
   "name": "python",
   "nbconvert_exporter": "python",
   "pygments_lexer": "ipython3",
   "version": "3.10.4"
  },
  "orig_nbformat": 4
 },
 "nbformat": 4,
 "nbformat_minor": 2
}
