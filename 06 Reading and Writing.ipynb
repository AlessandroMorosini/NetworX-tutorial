{
 "cells": [
  {
   "cell_type": "markdown",
   "metadata": {},
   "source": [
    "# Reading and Writing \n",
    "\n",
    "In this section I have only included examples of how to read graphs from (or write into) adjacency, edge list and JSON files. However, also many other types of files can be used as a source to extract a graphs, and here is the link [reading_files](https://networkx.org/documentation/stable/reference/readwrite/index.html)"
   ]
  },
  {
   "cell_type": "code",
   "execution_count": null,
   "metadata": {},
   "outputs": [],
   "source": [
    "import networkx as nx \n",
    "G = nx.erdos_renyi_graph(8, 0.4)\n",
    "nx.draw_networkx(G)"
   ]
  },
  {
   "cell_type": "markdown",
   "metadata": {},
   "source": [
    "## Adjacency"
   ]
  },
  {
   "cell_type": "code",
   "execution_count": null,
   "metadata": {},
   "outputs": [],
   "source": [
    "nx.write_adjlist(G, '/Users/alessandromorosini/Desktop/adj.txt')  # create file where fist el of line is node, other elements of line the neighbors\n",
    "G = nx.read_adjlist('/Users/alessandromorosini/Desktop/adj.txt', create_using=nx.DiGraph)  # will read the graph as DIrected\n",
    "\n",
    "adjl = [el for el in nx.generate_adjlist(G)]  # generator objects that generates adjlist as it is written in files\n",
    "print(adjl)\n",
    "G = nx.parse_adjlist(adjl)\n",
    "nx.draw_networkx(G)\n"
   ]
  },
  {
   "cell_type": "markdown",
   "metadata": {},
   "source": [
    "## Edge List"
   ]
  },
  {
   "cell_type": "code",
   "execution_count": null,
   "metadata": {},
   "outputs": [],
   "source": [
    "nx.write_edgelist(G, '/Users/alessandromorosini/Desktop/adj.txt')  # write all edges with attributes in the file\n",
    "G = nx.read_edgelist('/Users/alessandromorosini/Desktop/adj.txt')\n",
    "\n",
    "edgel = [el for el in nx.generate_edgelist(G)]  # generator containing data as in the txt file\n",
    "print(edgel)  # this is like the source target *attributes df generated when using pandas to extract edgelist\n",
    "G = nx.parse_edgelist(edgel)"
   ]
  },
  {
   "cell_type": "markdown",
   "metadata": {},
   "source": [
    "## JSON file"
   ]
  },
  {
   "cell_type": "code",
   "execution_count": null,
   "metadata": {},
   "outputs": [],
   "source": [
    "import json\n",
    "from pathlib import Path\n",
    "nx.draw_networkx(G)"
   ]
  },
  {
   "cell_type": "code",
   "execution_count": null,
   "metadata": {},
   "outputs": [],
   "source": [
    "data = nx.node_link_data(G)  # this data is suitable for json: \n",
    "print(f'node link data:\\n{data}')\n",
    "# dictionary containing nodes information and edge information (edge as source to target)\n",
    "\n",
    "data_json = json.dumps(data)\n",
    "print(f'\\ndata converted to json: \\n{data_json}')\n",
    "Path('/Users/alessandromorosini/Desktop/adj.json').write_text(data_json)\n",
    "\n",
    "with open('/Users/alessandromorosini/Desktop/adj.json') as jf:\n",
    "    data_json = json.load(jf)\n",
    "\n",
    "G = nx.node_link_graph(data_json)\n",
    "\n",
    "# uncomment below to see how node_link_data looks like\n",
    "# data\n",
    "\n",
    "\n"
   ]
  },
  {
   "cell_type": "code",
   "execution_count": null,
   "metadata": {},
   "outputs": [],
   "source": [
    "data = nx.adjacency_data(G)  # this data is suitable for json: \n",
    "# dictionary containing nodes information and adjacency list where list index represent the node and list dictionary the neighbors information\n",
    "print(f'adacency data:\\n{data}')\n",
    "\n",
    "data_json = json.dumps(data)\n",
    "print(f'\\ndata converted to json: \\n{data_json}')\n",
    "Path('/Users/alessandromorosini/Desktop/adj.json').write_text(data_json)\n",
    "\n",
    "with open('/Users/alessandromorosini/Desktop/adj.json') as jf:\n",
    "    data_json = json.load(jf)\n",
    "\n",
    "G = nx.adjacency_graph(data_json)\n",
    "\n",
    "# uncomment to see how node_link_data looks like\n",
    "# data['adjacency']"
   ]
  },
  {
   "cell_type": "code",
   "execution_count": null,
   "metadata": {},
   "outputs": [],
   "source": [
    "# two other functions that return data in json format are:\n",
    "nx.cytoscape_data(G)"
   ]
  },
  {
   "cell_type": "code",
   "execution_count": null,
   "metadata": {},
   "outputs": [],
   "source": [
    "nx.jit_data(G)"
   ]
  }
 ],
 "metadata": {
  "interpreter": {
   "hash": "aee8b7b246df8f9039afb4144a1f6fd8d2ca17a180786b69acc140d282b71a49"
  },
  "kernelspec": {
   "display_name": "Python 3.10.4 64-bit",
   "language": "python",
   "name": "python3"
  },
  "language_info": {
   "codemirror_mode": {
    "name": "ipython",
    "version": 3
   },
   "file_extension": ".py",
   "mimetype": "text/x-python",
   "name": "python",
   "nbconvert_exporter": "python",
   "pygments_lexer": "ipython3",
   "version": "3.10.4"
  },
  "orig_nbformat": 4
 },
 "nbformat": 4,
 "nbformat_minor": 2
}
