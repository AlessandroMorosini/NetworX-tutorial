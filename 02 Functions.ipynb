{
 "cells": [
  {
   "cell_type": "markdown",
   "metadata": {},
   "source": [
    "# Functions"
   ]
  },
  {
   "cell_type": "code",
   "execution_count": null,
   "metadata": {},
   "outputs": [],
   "source": [
    "import networkx as nx\n",
    "from matplotlib import pyplot as plt\n",
    "G = nx.erdos_renyi_graph(80,0.1)"
   ]
  },
  {
   "cell_type": "markdown",
   "metadata": {},
   "source": [
    "## Graph analysis"
   ]
  },
  {
   "cell_type": "code",
   "execution_count": null,
   "metadata": {},
   "outputs": [],
   "source": [
    "nx.degree(G)  # dict mapping any node to its degree\n",
    "nx.degree_histogram(G)  # vector associating to the index (representing degree) the amount of times this degree is present in the graph\n",
    "nx.density(G)  # density of the graph (ratio between present edges and potetial edges)"
   ]
  },
  {
   "cell_type": "code",
   "execution_count": null,
   "metadata": {},
   "outputs": [],
   "source": [
    "nx.is_directed(G)  # gives False if undirected\n",
    "nx.to_directed(G)  # gives directed view of G: already present edges are now in both orientations\n",
    "nx.to_directed(G)\n",
    "nx.is_empty(G)  # true if G contains no edges"
   ]
  },
  {
   "cell_type": "code",
   "execution_count": null,
   "metadata": {},
   "outputs": [],
   "source": [
    "sub_node_G = nx.subgraph(G, [0,1,2,3,19])  # creating subgraph of G that only contains node from the passed iterable\n",
    "nx.draw_networkx(sub_node_G)\n",
    "\n",
    "sub_edge_G = nx.subgraph(G, [(0,1),(2,3),(19,2)])  # creating subgraph of G that only contains edges from the passed iterable\n",
    "nx.draw_networkx(sub_edge_G)"
   ]
  },
  {
   "cell_type": "code",
   "execution_count": null,
   "metadata": {},
   "outputs": [],
   "source": [
    "# other way to create subgraph:\n",
    "# define function that returns true if we want to include a node in the subgraph\n",
    "def node_yes(node):\n",
    "    return node in [0,1,2,3,19]\n",
    "\n",
    "# define function that returns true to include edge in the subgraph\n",
    "def edge_yes(node1, node2):\n",
    "    return G[node1][node2]['weight'] > 2\n",
    "\n",
    "\n",
    "sub2_G = nx.subgraph_view(G, node_yes, edge_yes)\n",
    "nx.draw_networkx(sub2_G)"
   ]
  },
  {
   "cell_type": "code",
   "execution_count": null,
   "metadata": {},
   "outputs": [],
   "source": [
    "sub_G = nx.induced_subgraph(G, [0,1,2,3,19])  # creating subgraph of G that only contains node from the passed iterable\n",
    "nx.draw_networkx(sub_G)\n",
    "\n",
    "restricted_G = nx.restricted_view(G, [0,1,2,3,4], [(1,2),(3,4)])  # return view hiding the passed nodes and edges\n",
    "nx.draw_networkx(restricted_G)"
   ]
  },
  {
   "cell_type": "markdown",
   "metadata": {},
   "source": [
    "## Nodes"
   ]
  },
  {
   "cell_type": "code",
   "execution_count": null,
   "metadata": {},
   "outputs": [],
   "source": [
    "[node for node in nx.nodes(G)]  # iterator containing nodes of the graph\n",
    "nx.number_of_nodes(G)  # number of nodes in the graph\n",
    "[neigh0 for neigh0 in nx.neighbors(G, 0)]  # iterator containing nodes of 0\n",
    "[neigh0 for neigh0 in nx.all_neighbors(G, 0)]  # same as previous one but containing both precedessors and successors (directed graphs)\n",
    "[common_neigh for common_neigh in nx.common_neighbors(G, 0,1)]  # generator with common neighbors of two given nodes"
   ]
  },
  {
   "cell_type": "markdown",
   "metadata": {},
   "source": [
    "## Edges"
   ]
  },
  {
   "cell_type": "code",
   "execution_count": null,
   "metadata": {},
   "outputs": [],
   "source": [
    "nx.edges(G, [1,2,3,4])  # edges containing the passed nodes (are all edges when no default argument passed)\n",
    "nx.number_of_edges(G)  # == len(nx.edges(G))\n",
    "nx.non_edges(G)  # edges not present in the graph\n",
    "\n",
    "# paths\n",
    "nx.is_path(G, [1,2,3])  # returns true if passed nodes form a path\n",
    "nx.path_weight(G, [1,2,3], 'weight')  # returns sum of path weight (or passed attribute) if the path exists (else: error)"
   ]
  },
  {
   "cell_type": "markdown",
   "metadata": {},
   "source": [
    "## Attributes"
   ]
  },
  {
   "cell_type": "code",
   "execution_count": null,
   "metadata": {},
   "outputs": [],
   "source": [
    "nx.is_weighted(G, edge=(1,2))  # true if G has weighted edges (no default argument) or if passed edge is weighted\n",
    "nx.is_weighted(G)\n",
    "\n",
    "nx.set_node_attributes(G, nx.degree(G), 'degree')  # setting degree attribute = node degree for any node\n",
    "nx.get_node_attributes(G, 'degree')  # to retrieve attribure from all the nodes\n",
    "\n",
    "nx.set_edge_attributes(G, 'edge_atribute}', 'try')\n",
    "nx.get_edge_attributes(G, 'try')"
   ]
  }
 ],
 "metadata": {
  "interpreter": {
   "hash": "aee8b7b246df8f9039afb4144a1f6fd8d2ca17a180786b69acc140d282b71a49"
  },
  "kernelspec": {
   "display_name": "Python 3.10.4 64-bit",
   "language": "python",
   "name": "python3"
  },
  "language_info": {
   "codemirror_mode": {
    "name": "ipython",
    "version": 3
   },
   "file_extension": ".py",
   "mimetype": "text/x-python",
   "name": "python",
   "nbconvert_exporter": "python",
   "pygments_lexer": "ipython3",
   "version": "3.10.4"
  },
  "orig_nbformat": 4
 },
 "nbformat": 4,
 "nbformat_minor": 2
}
