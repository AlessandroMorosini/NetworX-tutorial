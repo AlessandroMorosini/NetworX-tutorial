{
 "cells": [
  {
   "cell_type": "markdown",
   "metadata": {},
   "source": [
    "# Converting\n",
    "\n",
    "note that the best way to create a graph is always by passing an argument to the constructor nx.Graph. \n",
    "\n",
    "However, we also have other ways to create a graph, as we shall see in this section."
   ]
  },
  {
   "cell_type": "code",
   "execution_count": null,
   "metadata": {},
   "outputs": [],
   "source": [
    "import networkx as nx\n",
    "\n",
    "d = {\n",
    "    'node1':['node2', 'node3'],\n",
    "    'node2':['node1', 'node4'],\n",
    "    'node4':['node1'],\n",
    "    }\n",
    "\n",
    "G = nx.Graph(d)  # preferred way of creating a Graph\n",
    "\n",
    "# or create empty grap and add_nodes_from and add_edges_from\n",
    "\n",
    "nx.draw_networkx(G)"
   ]
  },
  {
   "cell_type": "markdown",
   "metadata": {},
   "source": [
    "## Dictionaries"
   ]
  },
  {
   "cell_type": "code",
   "execution_count": null,
   "metadata": {},
   "outputs": [],
   "source": [
    "# convert graph to dict\n",
    "G = nx.erdos_renyi_graph(10,0.5)\n",
    "nx.draw_networkx(G)"
   ]
  },
  {
   "cell_type": "code",
   "execution_count": null,
   "metadata": {},
   "outputs": [],
   "source": [
    "adj = nx.to_dict_of_dicts(G)  # gives adjacency representation: map node to neighbors with attribute \n",
    "print(adj)\n",
    "nx.draw_networkx(\n",
    "    nx.from_dict_of_dicts(adj)  # read graph from adjacency dictionary\n",
    ")"
   ]
  },
  {
   "cell_type": "markdown",
   "metadata": {},
   "source": [
    "## Lists"
   ]
  },
  {
   "cell_type": "code",
   "execution_count": null,
   "metadata": {},
   "outputs": [],
   "source": [
    "dl = nx.to_dict_of_lists(G)  # map node to list of neighbors (not containing attributes)\n",
    "print(f'dict of lists looks like:\\n{dl}')\n",
    "el = nx.to_edgelist(G)  # list of tuples : (node1, node2, edge_attribute)\n",
    "print(f'\\nedge list looks like:\\n{el}')\n",
    "\n",
    "# can retrieve graph from both data structures\n",
    "nx.from_dict_of_lists(dl)  # COULD USE THIS TO UPLOAD MY GRAPH FROM THE JSON!!\n",
    "nx.from_edgelist(el)"
   ]
  },
  {
   "cell_type": "markdown",
   "metadata": {},
   "source": [
    "## Numpy"
   ]
  },
  {
   "cell_type": "code",
   "execution_count": null,
   "metadata": {},
   "outputs": [],
   "source": [
    "import numpy as np "
   ]
  },
  {
   "cell_type": "code",
   "execution_count": null,
   "metadata": {},
   "outputs": [],
   "source": [
    "r = np.random.randint(0,2, size=(5,5))  # creating a random adjacency matrix\n",
    "print(f'random 2d numpy array: \\n {r}')\n",
    "G = nx.from_numpy_matrix(r)\n",
    "nx.draw_networkx(G)"
   ]
  },
  {
   "cell_type": "code",
   "execution_count": null,
   "metadata": {},
   "outputs": [],
   "source": [
    "G = nx.erdos_renyi_graph(5, 0.8)\n",
    "nx.draw_networkx(G)\n",
    "adj_matrix = nx.to_numpy_array(G)\n",
    "adj_matrix"
   ]
  },
  {
   "cell_type": "code",
   "execution_count": null,
   "metadata": {},
   "outputs": [],
   "source": [
    "GG = nx.from_numpy_array(adj_matrix)\n",
    "nx.draw_networkx(GG)"
   ]
  },
  {
   "cell_type": "markdown",
   "metadata": {},
   "source": [
    "## Pandas"
   ]
  },
  {
   "cell_type": "code",
   "execution_count": null,
   "metadata": {},
   "outputs": [],
   "source": [
    "import pandas as pd"
   ]
  },
  {
   "cell_type": "code",
   "execution_count": null,
   "metadata": {},
   "outputs": [],
   "source": [
    "G = nx.karate_club_graph()\n",
    "nx.draw_networkx(G)"
   ]
  },
  {
   "cell_type": "code",
   "execution_count": null,
   "metadata": {},
   "outputs": [],
   "source": [
    "pa = nx.to_pandas_adjacency(G)  # adjacency matrix where the entry contains the weight\n",
    "\n",
    "pe = nx.to_pandas_edgelist(G)  # gives three cols: source, target and weight (could also have other attributes)\n",
    "\n",
    "print(pa.head())\n",
    "print(pe.head())  # this is super used df containing columns: source, target and attributes"
   ]
  },
  {
   "cell_type": "code",
   "execution_count": null,
   "metadata": {},
   "outputs": [],
   "source": [
    "G = nx.from_pandas_adjacency(pa)\n",
    "G = nx.from_pandas_edgelist(pe, source='source', target='target', edge_attr='weight')\n",
    "nx.draw_networkx(G)"
   ]
  }
 ],
 "metadata": {
  "interpreter": {
   "hash": "aee8b7b246df8f9039afb4144a1f6fd8d2ca17a180786b69acc140d282b71a49"
  },
  "kernelspec": {
   "display_name": "Python 3.10.4 64-bit",
   "language": "python",
   "name": "python3"
  },
  "language_info": {
   "codemirror_mode": {
    "name": "ipython",
    "version": 3
   },
   "file_extension": ".py",
   "mimetype": "text/x-python",
   "name": "python",
   "nbconvert_exporter": "python",
   "pygments_lexer": "ipython3",
   "version": "3.10.4"
  },
  "orig_nbformat": 4
 },
 "nbformat": 4,
 "nbformat_minor": 2
}
