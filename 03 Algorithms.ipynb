{
 "cells": [
  {
   "cell_type": "code",
   "execution_count": null,
   "metadata": {},
   "outputs": [],
   "source": [
    "import networkx as nx\n",
    "G = nx.karate_club_graph()"
   ]
  },
  {
   "cell_type": "code",
   "execution_count": null,
   "metadata": {},
   "outputs": [],
   "source": [
    "nx.draw_networkx(G)"
   ]
  },
  {
   "cell_type": "markdown",
   "metadata": {},
   "source": [
    "## Connectivity"
   ]
  },
  {
   "cell_type": "code",
   "execution_count": null,
   "metadata": {},
   "outputs": [],
   "source": [
    "# to compute node connectivity between all pairs of nodes of the graph \n",
    "# with node connectivty = distinct paths (with no overlap) to get to the same node\n",
    "nx.all_pairs_node_connectivity(G)  # dict mapping node to connectivity with any other node\n",
    "c16_to_5 = nx.all_pairs_node_connectivity(G)[16][5]\n",
    "print(f'there are {c16_to_5} distinct paths to reach 5 from 16')"
   ]
  },
  {
   "cell_type": "code",
   "execution_count": null,
   "metadata": {},
   "outputs": [],
   "source": [
    "\n",
    "# to find good approximation of k-connection of the graph:\n",
    "k_connected_components = nx.k_components(G)\n",
    "for k_level, subgraph in k_connected_components.items():\n",
    "    print(k_level, subgraph)\n",
    "# where key is k-level and value the subgraph corresponding to the key"
   ]
  },
  {
   "cell_type": "code",
   "execution_count": null,
   "metadata": {},
   "outputs": [],
   "source": [
    "nx.degree_centrality(G)  # assigns importance proportionate to node degree\n",
    "# nx.in_degree_centrality(G)\n",
    "# nx.out_degree_centrality(G)\n",
    "\n",
    "nx.eigenvector_centrality(G)  # assigns score also basing on shortest path of the neighbors"
   ]
  },
  {
   "cell_type": "code",
   "execution_count": null,
   "metadata": {},
   "outputs": [],
   "source": [
    "nx.betweenness_centrality(G)  # measure of centrality basing on shortest paths to all the other nodes in the graph\n",
    "\n",
    "nx.betweenness_centrality_subset(G, sources=G.nodes(), targets=[0])  # compute centrality of sources nodes wrt to target node "
   ]
  },
  {
   "cell_type": "markdown",
   "metadata": {},
   "source": [
    "## Components"
   ]
  },
  {
   "cell_type": "code",
   "execution_count": null,
   "metadata": {},
   "outputs": [],
   "source": [
    "nx.is_connected(G)  # true if G is fully connected\n",
    "# nx.is_strongly_connected(G)\n",
    "# nx.is_weakly_connected(G)\n",
    "\n",
    "nx.number_connected_components(G)\n",
    "# nx.number_strongly_connected_components\n",
    "# nx.number_weakly_connected_components\n",
    "\n",
    "nx.node_connected_component(G, 0)  # returns connected components containing the passed node "
   ]
  },
  {
   "cell_type": "markdown",
   "metadata": {},
   "source": [
    "## Shortest Path"
   ]
  },
  {
   "cell_type": "code",
   "execution_count": null,
   "metadata": {},
   "outputs": [],
   "source": [
    "nx.shortest_path(G , source=20, target=16)  # one of the possible shortest paths\n",
    "\n",
    "[path for path in nx.all_shortest_paths(G, source=20, target=16)]  # all possible shortest path\n",
    "\n",
    "nx.average_shortest_path_length(G)  # measure of connectivity "
   ]
  },
  {
   "cell_type": "code",
   "execution_count": null,
   "metadata": {},
   "outputs": [],
   "source": [
    "nx.single_source_shortest_path(G, source=0, cutoff=2)  # computes all shortest paths originating from 0 of length <= 2\n",
    "nx.single_target_shortest_path(G, target=0, cutoff=3)  # computes all shortest paths that end up in 0 of length <= 3"
   ]
  }
 ],
 "metadata": {
  "interpreter": {
   "hash": "aee8b7b246df8f9039afb4144a1f6fd8d2ca17a180786b69acc140d282b71a49"
  },
  "kernelspec": {
   "display_name": "Python 3.10.4 64-bit",
   "language": "python",
   "name": "python3"
  },
  "language_info": {
   "codemirror_mode": {
    "name": "ipython",
    "version": 3
   },
   "file_extension": ".py",
   "mimetype": "text/x-python",
   "name": "python",
   "nbconvert_exporter": "python",
   "pygments_lexer": "ipython3",
   "version": "3.10.4"
  },
  "orig_nbformat": 4
 },
 "nbformat": 4,
 "nbformat_minor": 2
}
